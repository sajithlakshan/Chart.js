{
  "nbformat": 4,
  "nbformat_minor": 0,
  "metadata": {
    "colab": {
      "name": "Tensaflow _Inner_Component.ipynb",
      "provenance": [],
      "collapsed_sections": [],
      "authorship_tag": "ABX9TyOcfYVZer3fTOUPzhkqwXUt",
      "include_colab_link": true
    },
    "kernelspec": {
      "name": "python3",
      "display_name": "Python 3"
    },
    "language_info": {
      "name": "python"
    }
  },
  "cells": [
    {
      "cell_type": "markdown",
      "metadata": {
        "id": "view-in-github",
        "colab_type": "text"
      },
      "source": [
        "<a href=\"https://colab.research.google.com/github/sajithlakshan/Chart.js/blob/master/TensorFlow/Tensaflow__Inner_Component.ipynb\" target=\"_parent\"><img src=\"https://colab.research.google.com/assets/colab-badge.svg\" alt=\"Open In Colab\"/></a>"
      ]
    },
    {
      "cell_type": "markdown",
      "metadata": {
        "id": "-bXYkNQsYtNv"
      },
      "source": [
        "# **Activation Function**"
      ]
    },
    {
      "cell_type": "code",
      "metadata": {
        "colab": {
          "base_uri": "https://localhost:8080/"
        },
        "id": "kbnX0OnDYjsI",
        "outputId": "d23b9e5a-ffd7-4f64-95f5-76d0ff9dbb05"
      },
      "source": [
        "import matplotlib.pyplot as plt\n",
        "import tensorflow as tf\n",
        "# Create a toy tensor (similar to the data we pass into our model)\n",
        "A = tf.cast(tf.range(-10, 10), tf.float32)\n",
        "A"
      ],
      "execution_count": null,
      "outputs": [
        {
          "output_type": "execute_result",
          "data": {
            "text/plain": [
              "<tf.Tensor: shape=(20,), dtype=float32, numpy=\n",
              "array([-10.,  -9.,  -8.,  -7.,  -6.,  -5.,  -4.,  -3.,  -2.,  -1.,   0.,\n",
              "         1.,   2.,   3.,   4.,   5.,   6.,   7.,   8.,   9.],\n",
              "      dtype=float32)>"
            ]
          },
          "metadata": {},
          "execution_count": 30
        }
      ]
    },
    {
      "cell_type": "code",
      "metadata": {
        "colab": {
          "base_uri": "https://localhost:8080/",
          "height": 265
        },
        "id": "jq7oA60ysBOz",
        "outputId": "132a7860-e8be-4426-f974-7fd772126797"
      },
      "source": [
        "plt.plot(A);"
      ],
      "execution_count": null,
      "outputs": [
        {
          "output_type": "display_data",
          "data": {
            "image/png": "[encoded data removed]",
            "text/plain": [
              "<Figure size 432x288 with 1 Axes>"
            ]
          },
          "metadata": {
            "needs_background": "light"
          }
        }
      ]
    },
    {
      "cell_type": "markdown",
      "metadata": {
        "id": "Jt75eEHNshGL"
      },
      "source": [
        "`sigmoid function `"
      ]
    },
    {
      "cell_type": "code",
      "metadata": {
        "id": "eIePdTw7sgtD"
      },
      "source": [
        "def sigmoid(x):\n",
        "  return 1 / (1 + tf.exp(-x))\n",
        "\n"
      ],
      "execution_count": null,
      "outputs": []
    },
    {
      "cell_type": "markdown",
      "metadata": {
        "id": "Y5p9tUPGs4AL"
      },
      "source": [
        "` ReLU function`"
      ]
    },
    {
      "cell_type": "code",
      "metadata": {
        "id": "2N9cYEYqs3vT"
      },
      "source": [
        "def relu(x):\n",
        "  return tf.maximum(0, x)"
      ],
      "execution_count": null,
      "outputs": []
    },
    {
      "cell_type": "markdown",
      "metadata": {
        "id": "zawezd3rtmiL"
      },
      "source": [
        "` linear activation function`"
      ]
    },
    {
      "cell_type": "code",
      "metadata": {
        "id": "TelrjQDYtovb"
      },
      "source": [
        "def linear(A):\n",
        "  return tf.keras.activations.linear(A)"
      ],
      "execution_count": null,
      "outputs": []
    },
    {
      "cell_type": "code",
      "metadata": {
        "colab": {
          "base_uri": "https://localhost:8080/",
          "height": 265
        },
        "id": "i6ncKbAStOvL",
        "outputId": "f3dfa98e-f569-4ab7-9213-066ab6b55c5c"
      },
      "source": [
        "# Plot sigmoid modified tensor\n",
        "plt.plot(sigmoid(A));"
      ],
      "execution_count": null,
      "outputs": [
        {
          "output_type": "display_data",
          "data": {
            "image/png": "[encoded data removed]",
            "text/plain": [
              "<Figure size 432x288 with 1 Axes>"
            ]
          },
          "metadata": {
            "needs_background": "light"
          }
        }
      ]
    },
    {
      "cell_type": "code",
      "metadata": {
        "colab": {
          "base_uri": "https://localhost:8080/",
          "height": 265
        },
        "id": "8tG4dJv_tPmr",
        "outputId": "6217c6c3-0112-45d3-b0f6-db82e45d9465"
      },
      "source": [
        "# Plot ReLU-modified tensor\n",
        "plt.plot(relu(A));"
      ],
      "execution_count": null,
      "outputs": [
        {
          "output_type": "display_data",
          "data": {
            "image/png": "[encoded data removed]",
            "text/plain": [
              "<Figure size 432x288 with 1 Axes>"
            ]
          },
          "metadata": {
            "needs_background": "light"
          }
        }
      ]
    },
    {
      "cell_type": "code",
      "metadata": {
        "colab": {
          "base_uri": "https://localhost:8080/",
          "height": 265
        },
        "id": "3kBpvlIkuCDl",
        "outputId": "fdd158c6-d478-45e3-a3c6-aba5d78301f3"
      },
      "source": [
        "# Plot linear activation tensor\n",
        "plt.plot(linear(A));"
      ],
      "execution_count": null,
      "outputs": [
        {
          "output_type": "display_data",
          "data": {
            "image/png": "[encoded data removed]",
            "text/plain": [
              "<Figure size 432x288 with 1 Axes>"
            ]
          },
          "metadata": {
            "needs_background": "light"
          }
        }
      ]
    },
    {
      "cell_type": "code",
      "metadata": {
        "colab": {
          "base_uri": "https://localhost:8080/"
        },
        "id": "yayEEsDwu8qz",
        "outputId": "90d4c7d9-672c-4015-b7f8-acf4d4d172e8"
      },
      "source": [
        "# Does the linear activation change anything?\n",
        "A == tf.keras.activations.linear(A)"
      ],
      "execution_count": null,
      "outputs": [
        {
          "output_type": "execute_result",
          "data": {
            "text/plain": [
              "<tf.Tensor: shape=(20,), dtype=bool, numpy=\n",
              "array([ True,  True,  True,  True,  True,  True,  True,  True,  True,\n",
              "        True,  True,  True,  True,  True,  True,  True,  True,  True,\n",
              "        True,  True])>"
            ]
          },
          "metadata": {},
          "execution_count": 38
        }
      ]
    }
  ]
}